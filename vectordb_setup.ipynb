{
 "cells": [
  {
   "cell_type": "code",
   "execution_count": 24,
   "metadata": {},
   "outputs": [],
   "source": [
    "import os\n",
    "import openai\n",
    "# import sys\n",
    "OPENAI_API_KEY = os.environ['OPENAI_API_KEY']\n",
    "\n",
    "openai.api_key = OPENAI_API_KEY"
   ]
  },
  {
   "cell_type": "code",
   "execution_count": 30,
   "metadata": {},
   "outputs": [
    {
     "name": "stdout",
     "output_type": "stream",
     "text": [
      "Available engines: \n",
      "['whisper-1', 'babbage', 'text-davinci-003', 'davinci', 'text-davinci-edit-001', 'babbage-code-search-code', 'text-similarity-babbage-001', 'code-davinci-edit-001', 'text-davinci-001', 'gpt-4-0613', 'ada', 'babbage-code-search-text', 'babbage-similarity', 'gpt-4', 'gpt-3.5-turbo-0613', 'gpt-3.5-turbo-16k-0613', 'code-search-babbage-text-001', 'text-curie-001', 'gpt-3.5-turbo', 'gpt-3.5-turbo-16k', 'code-search-babbage-code-001', 'text-ada-001', 'text-similarity-ada-001', 'curie-instruct-beta', 'gpt-3.5-turbo-0301', 'ada-code-search-code', 'ada-similarity', 'code-search-ada-text-001', 'text-search-ada-query-001', 'davinci-search-document', 'ada-code-search-text', 'text-search-ada-doc-001', 'davinci-instruct-beta', 'text-similarity-curie-001', 'code-search-ada-code-001', 'ada-search-query', 'text-search-davinci-query-001', 'curie-search-query', 'davinci-search-query', 'babbage-search-document', 'ada-search-document', 'text-search-curie-query-001', 'gpt-4-0314', 'text-search-babbage-doc-001', 'curie-search-document', 'text-search-curie-doc-001', 'babbage-search-query', 'text-babbage-001', 'text-search-davinci-doc-001', 'text-search-babbage-query-001', 'curie-similarity', 'curie', 'text-embedding-ada-002', 'text-similarity-davinci-001', 'text-davinci-002', 'davinci-similarity']\n"
     ]
    }
   ],
   "source": [
    "print(\"Available engines: \")\n",
    "print([data['id'] for data in openai.Engine.list()['data']])"
   ]
  },
  {
   "cell_type": "markdown",
   "metadata": {},
   "source": [
    "# Extract resume names"
   ]
  },
  {
   "cell_type": "code",
   "execution_count": 70,
   "metadata": {},
   "outputs": [],
   "source": [
    "from langchain.chat_models import ChatOpenAI\n",
    "from langchain import LLMChain\n",
    "from langchain.prompts.chat import (\n",
    "    ChatPromptTemplate,\n",
    "    SystemMessagePromptTemplate,\n",
    "    HumanMessagePromptTemplate,\n",
    ")\n",
    "\n",
    "chat = ChatOpenAI(model_name=\"gpt-3.5-turbo\", temperature=0)"
   ]
  },
  {
   "cell_type": "code",
   "execution_count": 71,
   "metadata": {},
   "outputs": [],
   "source": [
    "def get_name(resume_text):\n",
    "\n",
    "    template = \"\"\"You are a helpful assistant that extracts the applicant name from the resume. Only output the full name in this format:\\n \\\n",
    "    first_name, last_name \\n\\n \"\"\"\n",
    "    system_message_prompt = SystemMessagePromptTemplate.from_template(template)\n",
    "    human_template = \"Resume: \\n\\n {resume_text}\"\n",
    "    human_message_prompt = HumanMessagePromptTemplate.from_template(human_template)\n",
    "\n",
    "    chat_prompt = ChatPromptTemplate.from_messages([system_message_prompt, human_message_prompt])\n",
    "    # chat_prompt.format_messages(resume_text=\"resume_text\")\n",
    "    chain = LLMChain(llm=chat, prompt=chat_prompt)\n",
    "    name = chain.run(resume_text=resume_text)\n",
    "\n",
    "    return name\n"
   ]
  },
  {
   "cell_type": "code",
   "execution_count": 90,
   "metadata": {},
   "outputs": [],
   "source": [
    "def get_name_from_file(filename):\n",
    "    # assumes the filename is in the format: firstname_lastname_resume.txt\n",
    "    basename = os.path.splitext(filename)[0]\n",
    "    names = basename.split(\"_\")\n",
    "    full_name = names[0] + \" \" + names[1]\n",
    "    return full_name"
   ]
  },
  {
   "cell_type": "code",
   "execution_count": 318,
   "metadata": {},
   "outputs": [
    {
     "data": {
      "text/plain": [
       "[{'filename': 'Abraham_Lincoln_resume.txt', 'full_name': 'Abraham Lincoln'},\n",
       " {'filename': 'Agatha_Christie_resume.txt', 'full_name': 'Agatha Christie'},\n",
       " {'filename': 'Alberto_Santos-Dumont_resume.txt',\n",
       "  'full_name': 'Alberto Santos-Dumont'},\n",
       " {'filename': 'Amadeo_Avogadro_resume.txt', 'full_name': 'Amadeo Avogadro'},\n",
       " {'filename': 'Andy_Warhol_resume.txt', 'full_name': 'Andy Warhol'},\n",
       " {'filename': 'Anne_Frank_resume.txt', 'full_name': 'Anne Frank'},\n",
       " {'filename': 'Audrey_Hepburn_resume.txt', 'full_name': 'Audrey Hepburn'},\n",
       " {'filename': 'Barack_Obama_resume.txt', 'full_name': 'Barack Obama'},\n",
       " {'filename': 'Che_Guevara_resume.txt', 'full_name': 'Che Guevara'},\n",
       " {'filename': 'Cleopatra_resume.txt', 'full_name': 'Cleopatra resume'},\n",
       " {'filename': 'Coco_Chanel_resume.txt', 'full_name': 'Coco Chanel'},\n",
       " {'filename': 'Dalai_Lama_resume.txt', 'full_name': 'Dalai Lama'},\n",
       " {'filename': 'David_Bowie_resume.txt', 'full_name': 'David Bowie'},\n",
       " {'filename': 'Diego_Maradona_resume.txt', 'full_name': 'Diego Maradona'},\n",
       " {'filename': 'Elvis_Presley_resume.txt', 'full_name': 'Elvis Presley'},\n",
       " {'filename': 'Emily_Brontë_resume.txt', 'full_name': 'Emily Brontë'},\n",
       " {'filename': 'Eva_Perón_resume.txt', 'full_name': 'Eva Perón'},\n",
       " {'filename': 'Fidel_Castro_resume.txt', 'full_name': 'Fidel Castro'},\n",
       " {'filename': 'Freddie_Mercury_resume.txt', 'full_name': 'Freddie Mercury'},\n",
       " {'filename': 'Frederick_Douglass_resume.txt',\n",
       "  'full_name': 'Frederick Douglass'},\n",
       " {'filename': 'Galileo_Galilei_resume.txt', 'full_name': 'Galileo Galilei'},\n",
       " {'filename': 'George_Orwell_resume.txt', 'full_name': 'George Orwell'},\n",
       " {'filename': 'George_Washington_resume.txt',\n",
       "  'full_name': 'George Washington'},\n",
       " {'filename': 'Helen_Keller_resume.txt', 'full_name': 'Helen Keller'},\n",
       " {'filename': 'J.K._Rowling_resume.txt', 'full_name': 'J.K. Rowling'},\n",
       " {'filename': 'Jim_Morrison_resume.txt', 'full_name': 'Jim Morrison'},\n",
       " {'filename': 'Johannes_Gutenberg_resume.txt',\n",
       "  'full_name': 'Johannes Gutenberg'},\n",
       " {'filename': 'John_D._Rockefeller_resume.txt', 'full_name': 'John D.'},\n",
       " {'filename': 'John_F._Kennedy_resume.txt', 'full_name': 'John F.'},\n",
       " {'filename': 'John_Lennon_resume.txt', 'full_name': 'John Lennon'},\n",
       " {'filename': 'John_Steinbeck_resume.txt', 'full_name': 'John Steinbeck'},\n",
       " {'filename': 'Joseph_Stalin_resume.txt', 'full_name': 'Joseph Stalin'},\n",
       " {'filename': 'Julius_Caesar_resume.txt', 'full_name': 'Julius Caesar'},\n",
       " {'filename': 'Kurt_Cobain_resume.txt', 'full_name': 'Kurt Cobain'},\n",
       " {'filename': 'Leonardo_da_Vinci_resume.txt', 'full_name': 'Leonardo da'},\n",
       " {'filename': 'Leon_Trotsky_resume.txt', 'full_name': 'Leon Trotsky'},\n",
       " {'filename': 'Leo_Tolstoy_resume.txt', 'full_name': 'Leo Tolstoy'},\n",
       " {'filename': 'Louis_Pasteur_resume.txt', 'full_name': 'Louis Pasteur'},\n",
       " {'filename': 'Mahatma_Gandhi_resume.txt', 'full_name': 'Mahatma Gandhi'},\n",
       " {'filename': 'Mao_Zedong_resume.txt', 'full_name': 'Mao Zedong'},\n",
       " {'filename': 'Marie_Antoinette_resume.txt', 'full_name': 'Marie Antoinette'},\n",
       " {'filename': 'Marie_Curie_resume.txt', 'full_name': 'Marie Curie'},\n",
       " {'filename': 'Marlon_Brando_resume.txt', 'full_name': 'Marlon Brando'},\n",
       " {'filename': 'Martin_Luther_King_Jr._resume.txt',\n",
       "  'full_name': 'Martin Luther'},\n",
       " {'filename': 'Michael_Jordan_resume.txt', 'full_name': 'Michael Jordan'},\n",
       " {'filename': 'Mikhail_Gorbachev_resume.txt',\n",
       "  'full_name': 'Mikhail Gorbachev'},\n",
       " {'filename': 'Muhammad_Ali_resume.txt', 'full_name': 'Muhammad Ali'},\n",
       " {'filename': 'Nelson_Mandela_resume.txt', 'full_name': 'Nelson Mandela'},\n",
       " {'filename': 'Nikola_Tesla_resume.txt', 'full_name': 'Nikola Tesla'},\n",
       " {'filename': 'Oprah_Winfrey_resume.txt', 'full_name': 'Oprah Winfrey'},\n",
       " {'filename': 'Pierre-Auguste_Renoir_resume.txt',\n",
       "  'full_name': 'Pierre-Auguste Renoir'},\n",
       " {'filename': 'Pierre_Curie_resume.txt', 'full_name': 'Pierre Curie'},\n",
       " {'filename': 'Plato_resume.txt', 'full_name': 'Plato resume'},\n",
       " {'filename': 'Pope_Francis_resume.txt', 'full_name': 'Pope Francis'},\n",
       " {'filename': 'Princess_Diana_resume.txt', 'full_name': 'Princess Diana'},\n",
       " {'filename': 'Queen_Elizabeth_II_resume.txt', 'full_name': 'Queen Elizabeth'},\n",
       " {'filename': 'Roger_Federer_resume.txt', 'full_name': 'Roger Federer'},\n",
       " {'filename': 'Rosalind_Franklin_resume.txt',\n",
       "  'full_name': 'Rosalind Franklin'},\n",
       " {'filename': 'Rosa_Parks_resume.txt', 'full_name': 'Rosa Parks'},\n",
       " {'filename': 'Stephen_Hawking_resume.txt', 'full_name': 'Stephen Hawking'},\n",
       " {'filename': 'Steve_Jobs_resume.txt', 'full_name': 'Steve Jobs'},\n",
       " {'filename': 'Thomas_Edison_resume.txt', 'full_name': 'Thomas Edison'},\n",
       " {'filename': 'Virginia_Woolf_resume.txt', 'full_name': 'Virginia Woolf'},\n",
       " {'filename': 'Vladimir_Lenin_resume.txt', 'full_name': 'Vladimir Lenin'},\n",
       " {'filename': 'Walt_Disney_resume.txt', 'full_name': 'Walt Disney'},\n",
       " {'filename': 'Winston_Churchill_resume.txt',\n",
       "  'full_name': 'Winston Churchill'}]"
      ]
     },
     "execution_count": 318,
     "metadata": {},
     "output_type": "execute_result"
    }
   ],
   "source": [
    "metadata_list"
   ]
  },
  {
   "cell_type": "code",
   "execution_count": 320,
   "metadata": {},
   "outputs": [],
   "source": [
    "import os\n",
    "\n",
    "path = r\"resume_data\"\n",
    "metadata_list = []\n",
    "\n",
    "name_list = []\n",
    "# iterate over files in that directory\n",
    "for filename in os.listdir(path):\n",
    "    file_path = os.path.join(path, filename)\n",
    "    if os.path.isfile(file_path) and (filename != \".DS_Store\"):\n",
    "        # print(f'Loading file: {file_path}')\n",
    "        full_name = get_name_from_file(filename)\n",
    "        # print(full_name)\n",
    "        metadata = {\"filename\": filename, \"full_name\": full_name}\n",
    "        metadata_list.append(metadata)"
   ]
  },
  {
   "cell_type": "markdown",
   "metadata": {},
   "source": [
    "# Load resume_data via DirectoryLoader"
   ]
  },
  {
   "cell_type": "code",
   "execution_count": 321,
   "metadata": {},
   "outputs": [],
   "source": [
    "from langchain.document_loaders import DirectoryLoader\n",
    "loader = DirectoryLoader(path, glob=\"*.txt\")\n",
    "docs = loader.load()"
   ]
  },
  {
   "cell_type": "code",
   "execution_count": 322,
   "metadata": {},
   "outputs": [
    {
     "data": {
      "text/plain": [
       "langchain.schema.Document"
      ]
     },
     "execution_count": 322,
     "metadata": {},
     "output_type": "execute_result"
    }
   ],
   "source": [
    "type(docs[0])"
   ]
  },
  {
   "cell_type": "code",
   "execution_count": 324,
   "metadata": {},
   "outputs": [
    {
     "data": {
      "text/plain": [
       "{'source': 'resume_data\\\\Steve_Jobs_resume.txt'}"
      ]
     },
     "execution_count": 324,
     "metadata": {},
     "output_type": "execute_result"
    }
   ],
   "source": [
    "docs[60].metadata"
   ]
  },
  {
   "cell_type": "code",
   "execution_count": 325,
   "metadata": {},
   "outputs": [],
   "source": [
    "# update docs with metadata_list\n",
    "for i in range(len(docs)):\n",
    "    docs[i].metadata = metadata_list[i]"
   ]
  },
  {
   "cell_type": "code",
   "execution_count": 326,
   "metadata": {},
   "outputs": [
    {
     "data": {
      "text/plain": [
       "{'filename': 'Steve_Jobs_resume.txt', 'full_name': 'Steve Jobs'}"
      ]
     },
     "execution_count": 326,
     "metadata": {},
     "output_type": "execute_result"
    }
   ],
   "source": [
    "docs[60].metadata"
   ]
  },
  {
   "cell_type": "markdown",
   "metadata": {},
   "source": [
    "# Initiate chroma db"
   ]
  },
  {
   "cell_type": "code",
   "execution_count": 327,
   "metadata": {},
   "outputs": [],
   "source": [
    "from langchain.embeddings.openai import OpenAIEmbeddings\n",
    "embedding_function = OpenAIEmbeddings()\n",
    "from langchain.vectorstores import Chroma"
   ]
  },
  {
   "cell_type": "code",
   "execution_count": 328,
   "metadata": {},
   "outputs": [],
   "source": [
    "# create ids for each document\n",
    "ids = [f\"{str(i)}\" for i in range(1, len(docs)+1)]"
   ]
  },
  {
   "cell_type": "code",
   "execution_count": 329,
   "metadata": {},
   "outputs": [],
   "source": [
    "# create the vectorstore\n",
    "vectordb = Chroma.from_documents(\n",
    "    documents = docs,\n",
    "    embedding = embedding_function,\n",
    "    ids=ids,\n",
    "    persist_directory='chroma/full_resume/',\n",
    "    collection_name=\"resume_full\"\n",
    ")"
   ]
  },
  {
   "cell_type": "code",
   "execution_count": 330,
   "metadata": {},
   "outputs": [],
   "source": [
    "vectordb.persist()"
   ]
  },
  {
   "cell_type": "markdown",
   "metadata": {},
   "source": [
    "## similarity search demo"
   ]
  },
  {
   "cell_type": "markdown",
   "metadata": {},
   "source": []
  },
  {
   "cell_type": "code",
   "execution_count": 267,
   "metadata": {},
   "outputs": [
    {
     "data": {
      "text/plain": [
       "{'ids': ['skills_66'],\n",
       " 'embeddings': None,\n",
       " 'documents': ['\"Explicitly mentioned technical skills:\\\\n- Data integration\\\\n- Data analytics\\\\n- Data mining\\\\n- .Net development\\\\n- Programming languages: perl, laravel, reactjs, pytorch, nltk\\\\n- Google technologies: Google BigQuery, Google Cloud Compute Engine\\\\n- Database technologies: HBase, Solr\\\\n- Data analytics tools: Weka, Spotfire, Matplotlib\\\\n- Agile methodologies: Scrum\\\\n- Data mining techniques: Regression analysis, Collaborative filtering, NLTK, CUDA\\\\n\\\\nImplied or directly stated technical skills from work experiences:\\\\n- .Net development\\\\n- Perl\\\\n- Laravel\\\\n- Web services\\\\n- Dask\\\\n- ReactJS\\\\n- Google technologies: Google BigQuery, Google Cloud Compute Engine\\\\n- Solr\\\\n- Data analytics: Classification, Matplotlib, Weka, Spotfire\\\\n- Agile methodologies: Scrum\\\\n- Data mining techniques: PyTorch, Regression analysis, Collaborative filtering, NLTK, CUDA\\\\n\\\\nConsolidated and organized technical skills:\\\\nExplicitly mentioned skills:\\\\n- Data integration\\\\n- Data analytics\\\\n- Data mining\\\\n- .Net development\\\\n- Programming languages: perl, laravel, reactjs, pytorch, nltk\\\\n- Google technologies: Google BigQuery, Google Cloud Compute Engine\\\\n- Database technologies: HBase, Solr\\\\n- Data analytics tools: Weka, Spotfire, Matplotlib\\\\n- Agile methodologies: Scrum\\\\n- Data mining techniques: Regression analysis, Collaborative filtering, NLTK, CUDA\\\\n\\\\nImplied or directly stated skills from work experiences:\\\\n- .Net development\\\\n- Perl\\\\n- Laravel\\\\n- Web services\\\\n- Dask\\\\n- ReactJS\\\\n- Google technologies\\n\\n: Google BigQuery, Google Cloud Compute Engine\\\\n- Solr\\\\n- Data analytics: Classification, Matplotlib, Weka, Spotfire\\\\n- Agile methodologies: Scrum\\\\n- Data mining techniques: PyTorch, Regression analysis, Collaborative filtering, NLTK, CUDA\"'],\n",
       " 'metadatas': [{'filename': 'Winston_Churchill_resume_skills.txt',\n",
       "   'full_name': 'Winston Churchill'}]}"
      ]
     },
     "execution_count": 267,
     "metadata": {},
     "output_type": "execute_result"
    }
   ],
   "source": [
    "\n",
    "vectordb._collection.get(ids=[ids[-1]])"
   ]
  },
  {
   "cell_type": "code",
   "execution_count": 336,
   "metadata": {},
   "outputs": [],
   "source": [
    "resumedb = Chroma(persist_directory=\"chroma/full_resume/\",\n",
    "                    collection_name=\"resume_full\",\n",
    "                    embedding_function=embedding_function)\n",
    "\n",
    "skillsdb = Chroma(persist_directory=\"chroma/skills/\", \n",
    "                  collection_name=\"resume_skills\",\n",
    "                  embedding_function=embedding_function)\n",
    "\n",
    "workdb = Chroma(persist_directory=\"chroma/work/\",\n",
    "                collection_name=\"resume_work\",\n",
    "                embedding_function=embedding_function)"
   ]
  },
  {
   "cell_type": "code",
   "execution_count": 348,
   "metadata": {},
   "outputs": [],
   "source": [
    "query = \"Software engineer with AWS experience\"\n",
    "# for db in [skillsdb, workdb]:\n",
    "#     results = db.similarity_search(query)\n",
    "#     skills_results =\n",
    "\n",
    "resume_results = resumedb.similarity_search_with_relevance_scores(query, k=10)\n",
    "skill_results = skillsdb.similarity_search_with_relevance_scores(query)\n",
    "work_results = workdb.similarity_search_with_relevance_scores(query)"
   ]
  },
  {
   "cell_type": "code",
   "execution_count": 360,
   "metadata": {},
   "outputs": [],
   "source": [
    "import pandas as pd\n",
    "\n",
    "def get_matches_resume(query, k=10, match_type=\"resume\"):\n",
    "    if match_type == \"work\":\n",
    "        db = Chroma(persist_directory=\"chroma/work/\",\n",
    "                collection_name=\"resume_work\",\n",
    "                embedding_function=embedding_function)\n",
    "\n",
    "    elif match_type == \"skills\":\n",
    "        db = Chroma(persist_directory=\"chroma/skills/\", \n",
    "                  collection_name=\"resume_skills\",\n",
    "                  embedding_function=embedding_function)\n",
    "    else:\n",
    "        db = Chroma(persist_directory=\"chroma/full_resume/\",\n",
    "                    collection_name=\"resume_full\",\n",
    "                    embedding_function=embedding_function)\n",
    "\n",
    "    results = db.similarity_search_with_relevance_scores(query, k=k)\n",
    "    distance = [f\"{result[1]:.2f}\" for result in results]\n",
    "    full_name = [result[0].metadata['full_name'] for result in results]\n",
    "    content = [result[0].page_content for result in results]\n",
    "    df = pd.DataFrame({\"full_name\": full_name, \"distance\": distance, \"content\": content})   \n",
    "    return df"
   ]
  },
  {
   "cell_type": "code",
   "execution_count": 367,
   "metadata": {},
   "outputs": [],
   "source": [
    "matches = get_matches_resume('machine_learning engineer', k=3, match_type=\"resume\")"
   ]
  },
  {
   "cell_type": "code",
   "execution_count": 368,
   "metadata": {},
   "outputs": [
    {
     "data": {
      "text/html": [
       "<div>\n",
       "<style scoped>\n",
       "    .dataframe tbody tr th:only-of-type {\n",
       "        vertical-align: middle;\n",
       "    }\n",
       "\n",
       "    .dataframe tbody tr th {\n",
       "        vertical-align: top;\n",
       "    }\n",
       "\n",
       "    .dataframe thead th {\n",
       "        text-align: right;\n",
       "    }\n",
       "</style>\n",
       "<table border=\"1\" class=\"dataframe\">\n",
       "  <thead>\n",
       "    <tr style=\"text-align: right;\">\n",
       "      <th></th>\n",
       "      <th>full_name</th>\n",
       "      <th>distance</th>\n",
       "      <th>content</th>\n",
       "    </tr>\n",
       "  </thead>\n",
       "  <tbody>\n",
       "    <tr>\n",
       "      <th>0</th>\n",
       "      <td>Michael Jordan</td>\n",
       "      <td>0.32</td>\n",
       "      <td>MICHAEL JORDAN\\n\\nMSc in Computer Engineering ...</td>\n",
       "    </tr>\n",
       "    <tr>\n",
       "      <th>1</th>\n",
       "      <td>Vladimir Lenin</td>\n",
       "      <td>0.33</td>\n",
       "      <td>Vladimir Lenin\\n\\nEmail: vladimir.lenin@email....</td>\n",
       "    </tr>\n",
       "    <tr>\n",
       "      <th>2</th>\n",
       "      <td>Abraham Lincoln</td>\n",
       "      <td>0.34</td>\n",
       "      <td>Abraham Lincoln\\n\\nProfessional Summary: Accom...</td>\n",
       "    </tr>\n",
       "  </tbody>\n",
       "</table>\n",
       "</div>"
      ],
      "text/plain": [
       "         full_name distance                                            content\n",
       "0   Michael Jordan     0.32  MICHAEL JORDAN\\n\\nMSc in Computer Engineering ...\n",
       "1   Vladimir Lenin     0.33  Vladimir Lenin\\n\\nEmail: vladimir.lenin@email....\n",
       "2  Abraham Lincoln     0.34  Abraham Lincoln\\n\\nProfessional Summary: Accom..."
      ]
     },
     "execution_count": 368,
     "metadata": {},
     "output_type": "execute_result"
    }
   ],
   "source": [
    "matches"
   ]
  },
  {
   "cell_type": "code",
   "execution_count": 349,
   "metadata": {},
   "outputs": [
    {
     "name": "stdout",
     "output_type": "stream",
     "text": [
      "\n",
      "**Matching full resume:\n",
      "Johannes Gutenberg\n",
      "0.29\n",
      "Abraham Lincoln\n",
      "0.32\n",
      "Roger Federer\n",
      "0.35\n",
      "Winston Churchill\n",
      "0.35\n",
      "John Steinbeck\n",
      "0.36\n",
      "Audrey Hepburn\n",
      "0.36\n",
      "Coco Chanel\n",
      "0.36\n",
      "Virginia Woolf\n",
      "0.37\n",
      "Steve Jobs\n",
      "0.37\n",
      "George Orwell\n",
      "0.38\n",
      "\n",
      "**Matching skills:\n",
      "Audrey Hepburn\n",
      "0.31\n",
      "Johannes Gutenberg\n",
      "0.35\n",
      "Pierre-Auguste Renoir\n",
      "0.36\n",
      "John Steinbeck\n",
      "0.36\n",
      "\n",
      "**Matching work experience:\n",
      "Johannes Gutenberg\n",
      "0.30\n",
      "Audrey Hepburn\n",
      "0.30\n",
      "Mahatma Gandhi\n",
      "0.32\n",
      "John Steinbeck\n",
      "0.33\n"
     ]
    }
   ],
   "source": [
    "print(\"\\n**Matching full resume:\")\n",
    "for rr in resume_results:\n",
    "    print(rr[0].metadata['full_name'])\n",
    "    print(f\"{rr[1]:.2f}\")\n",
    "\n",
    "print(\"\\n**Matching skills:\")\n",
    "for sr in skill_results:\n",
    "    print(sr[0].metadata['full_name'])\n",
    "    print(f\"{sr[1]:.2f}\")\n",
    "\n",
    "print(\"\\n**Matching work experience:\")\n",
    "for wr in work_results:\n",
    "    print(wr[0].metadata['full_name'])\n",
    "    print(f\"{wr[1]:.2f}\")"
   ]
  },
  {
   "cell_type": "code",
   "execution_count": 228,
   "metadata": {},
   "outputs": [],
   "source": [
    "for result in results:\n",
    "    print(result)\n",
    "    # print('Metadata: ', result[0].metadata)\n",
    "    # print('Score: ',result[1])\n",
    "    print(\"------------------\")\n",
    "    "
   ]
  },
  {
   "cell_type": "code",
   "execution_count": null,
   "metadata": {},
   "outputs": [],
   "source": []
  }
 ],
 "metadata": {
  "kernelspec": {
   "display_name": "Python 3",
   "language": "python",
   "name": "python3"
  },
  "language_info": {
   "codemirror_mode": {
    "name": "ipython",
    "version": 3
   },
   "file_extension": ".py",
   "mimetype": "text/x-python",
   "name": "python",
   "nbconvert_exporter": "python",
   "pygments_lexer": "ipython3",
   "version": "3.9.13"
  },
  "orig_nbformat": 4
 },
 "nbformat": 4,
 "nbformat_minor": 2
}
